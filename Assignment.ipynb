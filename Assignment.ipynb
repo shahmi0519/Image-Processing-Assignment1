{
 "cells": [
  {
   "cell_type": "markdown",
   "id": "02fdc8df",
   "metadata": {},
   "source": [
    "# Import Libraries and Input Image"
   ]
  },
  {
   "cell_type": "code",
   "execution_count": 2,
   "id": "93781dc7",
   "metadata": {},
   "outputs": [],
   "source": [
    "import cv2\n",
    "import numpy as np\n",
    "import os\n",
    "\n",
    "# Make output directory\n",
    "os.makedirs(\"images\", exist_ok=True)\n",
    "\n",

    "\n",
    "# Load image\n",
    "img = cv2.imread('input.jpg')"
   ]
  },
  {
   "cell_type": "markdown",
   "id": "8ab3a645",
   "metadata": {},
   "source": [
    "# 1) Reduce Intensity Level"
   ]
  },
  {
   "cell_type": "code",
   "execution_count": null,
   "id": "3efba8aa",
   "metadata": {},
   "outputs": [],
   "source": [
    "def reduce_intensity_levels(img, levels):\n",
    "    factor = 256 // levels\n",
    "    reduced_img = (img // factor) * factor\n",
    "    return reduced_img\n",
    "\n",
    "for lvl in [2, 4, 8, 16]:\n",
    "    reduced = reduce_intensity_levels(img, lvl)\n",
    "    cv2.imwrite(f'images/reduced_{lvl}_levels.jpg', reduced)"
   ]
  },
  {
   "cell_type": "markdown",
   "id": "0da49c94",
   "metadata": {},
   "source": [
    "# 2) Spatial Averaging (Smoothing)"
   ]
  },
  {
   "cell_type": "code",
   "execution_count": null,
   "id": "0ff7cce8",
   "metadata": {},
   "outputs": [],
   "source": [
    "def average_filter(img, ksize):\n",
    "    return cv2.blur(img, (ksize, ksize))\n",
    "\n",
    "for k in [3, 10, 20]:\n",
    "    avg = average_filter(img, k)\n",
    "    cv2.imwrite(f'images/avg_{k}x{k}.jpg', avg)"
   ]
  },
  {
   "cell_type": "markdown",
   "id": "77ac2643",
   "metadata": {},
   "source": [
    "# 3) Image Rotation"
   ]
  },
  {
   "cell_type": "code",
   "execution_count": null,
   "id": "f009e7f5",
   "metadata": {},
   "outputs": [
    {
     "data": {
      "text/plain": [
       "True"
      ]
     },
     "execution_count": 5,
     "metadata": {},
     "output_type": "execute_result"
    }
   ],
   "source": [
    "def rotate_image(img, angle):\n",
    "    h, w = img.shape[:2]\n",
    "    center = (w // 2, h // 2)\n",
    "    matrix = cv2.getRotationMatrix2D(center, angle, 1.0)\n",
    "    \n",
    "    # Compute new bounding dimensions\n",
    "    cos = np.abs(matrix[0, 0])\n",
    "    sin = np.abs(matrix[0, 1])\n",
    "    nW = int((h * sin) + (w * cos))\n",
    "    nH = int((h * cos) + (w * sin))\n",
    "    \n",
    "    # Adjust rotation matrix to account for translation\n",
    "    matrix[0, 2] += (nW / 2) - center[0]\n",
    "    matrix[1, 2] += (nH / 2) - center[1]\n",
    "    \n",
    "    rotated = cv2.warpAffine(img, matrix, (nW, nH))\n",
    "    return rotated\n",
    "\n",
    "rot_45 = rotate_image(img, 45)\n",
    "rot_90 = rotate_image(img, 90)\n",
    "\n",
    "cv2.imwrite('images/rotated_45.jpg', rot_45)\n",
    "cv2.imwrite('images/rotated_90.jpg', rot_90)"
   ]
  },
  {
   "cell_type": "markdown",
   "id": "ebb7a6df",
   "metadata": {},
   "source": [
    "# 4) Reduce Resolution via Block Averaging"
   ]
  },
  {
   "cell_type": "code",
   "execution_count": null,
   "id": "5ff1c156",
   "metadata": {},
   "outputs": [],
   "source": [
    "def block_average(img, block_size):\n",
    "    h, w, c = img.shape\n",
    "    reduced_img = np.copy(img)\n",
    "    for y in range(0, h, block_size):\n",
    "        for x in range(0, w, block_size):\n",
    "            y_end = min(y + block_size, h)\n",
    "            x_end = min(x + block_size, w)\n",
    "            block = img[y:y_end, x:x_end]\n",
    "            avg_val = block.reshape(-1, c).mean(axis=0).astype(np.uint8)\n",
    "            reduced_img[y:y_end, x:x_end] = avg_val\n",
    "    return reduced_img\n",
    "\n",
    "for b in [3, 5, 7]:\n",
    "    block = block_average(img, b)\n",
    "    cv2.imwrite(f'images/block_{b}x{b}.jpg', block)"
   ]
  }
 ],
 "metadata": {
  "kernelspec": {
   "display_name": "Python 3",
   "language": "python",
   "name": "python3"
  },
  "language_info": {
   "codemirror_mode": {
    "name": "ipython",
    "version": 3
   },
   "file_extension": ".py",
   "mimetype": "text/x-python",
   "name": "python",
   "nbconvert_exporter": "python",
   "pygments_lexer": "ipython3",
   "version": "3.10.10"
  }
 },
 "nbformat": 4,
 "nbformat_minor": 5
}
